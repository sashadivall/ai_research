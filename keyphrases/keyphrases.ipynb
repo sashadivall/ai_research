{
 "cells": [
  {
   "cell_type": "code",
   "execution_count": 7,
   "metadata": {},
   "outputs": [],
   "source": [
    "import pandas as pd\n",
    "import ast"
   ]
  },
  {
   "cell_type": "code",
   "execution_count": 9,
   "metadata": {},
   "outputs": [],
   "source": [
    "data = pd.read_csv(\"data/college_topics.csv\")"
   ]
  },
  {
   "cell_type": "code",
   "execution_count": 10,
   "metadata": {},
   "outputs": [],
   "source": [
    "data = data[\"Topic List\"].apply(ast.literal_eval)\n",
    "vocabulary = list(set(topic for topics in data for topic in topics))"
   ]
  },
  {
   "cell_type": "code",
   "execution_count": 11,
   "metadata": {},
   "outputs": [
    {
     "data": {
      "text/plain": [
       "['sentiment analysis',\n",
       " 'predicate calculus',\n",
       " 'AI techniques',\n",
       " 'embeddings',\n",
       " 'unsupervised learning',\n",
       " 'evaluation',\n",
       " 'computational mechanisms',\n",
       " 'transformer architectures',\n",
       " 'bias',\n",
       " 'game playing',\n",
       " 'multiagent systems',\n",
       " 'expert systems',\n",
       " 'deterministic tasks',\n",
       " 'hidden Markov models',\n",
       " 'feature space representations',\n",
       " 'kernel methods',\n",
       " 'artificial intelligence',\n",
       " 'learning',\n",
       " 'human-computer interaction',\n",
       " 'inference methods',\n",
       " 'deep learning',\n",
       " 'boosting',\n",
       " 'graphical models',\n",
       " 'Bayesian approaches',\n",
       " 'logic',\n",
       " 'heuristic search',\n",
       " 'theorem-proving',\n",
       " 'stochastic tasks',\n",
       " 'computational learning theory',\n",
       " 'instance-based learning',\n",
       " 'optimization',\n",
       " 'support vector machines',\n",
       " 'reinforcement learning',\n",
       " 'classification',\n",
       " 'inductive bias',\n",
       " 'problem-solving',\n",
       " 'reasoning under uncertainty',\n",
       " 'automation',\n",
       " 'overfitting',\n",
       " 'regularization',\n",
       " 'personalized information filtering',\n",
       " 'gradient-based methods',\n",
       " 'uncertain reasoning',\n",
       " 'gradient descent',\n",
       " 'knowledge representation',\n",
       " 'association',\n",
       " 'neural networks',\n",
       " 'neural-network architectures',\n",
       " 'semantic networks',\n",
       " 'decision trees',\n",
       " 'recommender systems',\n",
       " 'clustering',\n",
       " 'search',\n",
       " 'generative AI',\n",
       " 'reasoning',\n",
       " 'automated deduction',\n",
       " 'maximum likelihood',\n",
       " 'image classification',\n",
       " 'ensemble methods',\n",
       " 'ontologies',\n",
       " 'decision-making',\n",
       " 'computer vision',\n",
       " 'machine learning',\n",
       " 'meta-learning',\n",
       " 'business analytics',\n",
       " 'state-space search methods',\n",
       " 'supervised learning',\n",
       " 'algorithms',\n",
       " 'natural language processing',\n",
       " 'robotics',\n",
       " 'planning',\n",
       " 'production rule systems',\n",
       " 'probabilistic reasoning',\n",
       " 'probabilistic view']"
      ]
     },
     "execution_count": 11,
     "metadata": {},
     "output_type": "execute_result"
    }
   ],
   "source": [
    "vocabulary"
   ]
  },
  {
   "cell_type": "code",
   "execution_count": 12,
   "metadata": {},
   "outputs": [
    {
     "data": {
      "text/plain": [
       "74"
      ]
     },
     "execution_count": 12,
     "metadata": {},
     "output_type": "execute_result"
    }
   ],
   "source": [
    "len(vocabulary)"
   ]
  },
  {
   "cell_type": "code",
   "execution_count": null,
   "metadata": {},
   "outputs": [
    {
     "name": "stdout",
     "output_type": "stream",
     "text": [
      "sentiment analysis\n",
      "predicate calculus\n",
      "AI techniques\n",
      "embeddings\n",
      "unsupervised learning\n",
      "evaluation\n",
      "computational mechanisms\n",
      "transformer architectures\n",
      "bias\n",
      "game playing\n"
     ]
    }
   ],
   "source": [
    "for word in vocabulary[:10]:\n",
    "    print(word)"
   ]
  },
  {
   "cell_type": "code",
   "execution_count": 22,
   "metadata": {},
   "outputs": [
    {
     "data": {
      "text/plain": [
       "True"
      ]
     },
     "execution_count": 22,
     "metadata": {},
     "output_type": "execute_result"
    }
   ],
   "source": [
    "\"supervised learning\" in vocabulary"
   ]
  },
  {
   "cell_type": "code",
   "execution_count": null,
   "metadata": {},
   "outputs": [],
   "source": [
    "topic_mapping = {\n",
    "    \"machine learning\": [\n",
    "        \"supervised learning\", \"unsupervised learning\", \"reinforcement learning\", \n",
    "        \"deep learning\", \"computational learning theory\", \"meta-learning\",\n",
    "        \"instance-based learning\", \"inductive bias\", \"overfitting\", \"regularization\",\n",
    "        \"gradient-based methods\", \"gradient descent\", \"boosting\",  \n",
    "        \"transformer architectures\"\n",
    "    ],\n",
    "    \"ml techniques\": [\n",
    "        \"support vector machines\", \"decision trees\", \"classification\", \"clustering\", \n",
    "        \"ensemble methods\", \"feature space representations\", \"kernel methods\", \n",
    "        \"deterministic tasks\", \"stochastic tasks\"\n",
    "    ],\n",
    "    \"artificial intelligence\": [\n",
    "        \"artificial intelligence\", \"AI techniques\", \"automation\", \"generative AI\",\n",
    "        \"multiagent systems\", \"automated deduction\", \"heuristic search\", \"state-space search methods\", \"knowledge representation\", \n",
    "        \"search\"\n",
    "    ],\n",
    "    \"game playing\": [\n",
    "        \"game playing\", \"robotics\", \"planning\"\n",
    "    ],\n",
    "    \"problem solving and decision making\": [\n",
    "        \"problem-solving\", \"decision-making\", \n",
    "    ],\n",
    "    \"natural language processing\": [\n",
    "        \"natural language processing\", \"sentiment analysis\", \"embeddings\"\n",
    "    ],\n",
    "    \"computer vision\": [\n",
    "        \"computer vision\", \"image classification\"\n",
    "    ],\n",
    "    \"probabilistic methods\": [\n",
    "        \"probabilistic reasoning\", \"Bayesian approaches\", \n",
    "        \"hidden Markov models\", \"maximum likelihood\", \"uncertain reasoning\", \"reasoning under uncertainty\", \"reasoning\"\n",
    "    ],\n",
    "    \"logic and theorem proving\": [\n",
    "        \"logic\", \"predicate calculus\", \"theorem-proving\", \"graphical models\", \n",
    "    ],\n",
    "    \"neural networks\": [\n",
    "        \"neural networks\", \"neural-network architectures\"\n",
    "    ],\n",
    "    \"bias and ethics\": [\n",
    "        \"bias\", \"human-computer interaction\"\n",
    "    ],\n",
    "    \"systems\": [\n",
    "        \"expert systems\", \"recommender systems\", \"personalized information filtering\", \"association\",\n",
    "        \"production rule systems\", \n",
    "    ],\n",
    "    \"analytics and optimization\": [\n",
    "        \"business analytics\", \"evaluation\", \"optimization\"\n",
    "    ]\n",
    "}"
   ]
  },
  {
   "cell_type": "code",
   "execution_count": 24,
   "metadata": {},
   "outputs": [],
   "source": [
    "length = 0\n",
    "for k, v in topic_mapping.items():\n",
    "    length += len(list(v))\n"
   ]
  },
  {
   "cell_type": "code",
   "execution_count": 25,
   "metadata": {},
   "outputs": [
    {
     "data": {
      "text/plain": [
       "66"
      ]
     },
     "execution_count": 25,
     "metadata": {},
     "output_type": "execute_result"
    }
   ],
   "source": [
    "length"
   ]
  },
  {
   "cell_type": "code",
   "execution_count": null,
   "metadata": {},
   "outputs": [],
   "source": []
  }
 ],
 "metadata": {
  "kernelspec": {
   "display_name": "ai-research",
   "language": "python",
   "name": "python3"
  },
  "language_info": {
   "codemirror_mode": {
    "name": "ipython",
    "version": 3
   },
   "file_extension": ".py",
   "mimetype": "text/x-python",
   "name": "python",
   "nbconvert_exporter": "python",
   "pygments_lexer": "ipython3",
   "version": "3.12.9"
  }
 },
 "nbformat": 4,
 "nbformat_minor": 2
}
